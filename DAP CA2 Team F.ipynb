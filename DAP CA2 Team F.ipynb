{
 "cells": [
  {
   "cell_type": "markdown",
   "id": "df75a3dd",
   "metadata": {},
   "source": [
    "### Installing Folium"
   ]
  },
  {
   "cell_type": "code",
   "execution_count": 2,
   "id": "610463fd",
   "metadata": {},
   "outputs": [
    {
     "name": "stdout",
     "output_type": "stream",
     "text": [
      "Collecting folium\n",
      "  Downloading folium-0.14.0-py2.py3-none-any.whl (102 kB)\n",
      "     -------------------------------------- 102.3/102.3 kB 1.5 MB/s eta 0:00:00\n",
      "Requirement already satisfied: jinja2>=2.9 in c:\\users\\admin\\anaconda3\\lib\\site-packages (from folium) (2.11.3)\n",
      "Requirement already satisfied: requests in c:\\users\\admin\\anaconda3\\lib\\site-packages (from folium) (2.28.1)\n",
      "Requirement already satisfied: numpy in c:\\users\\admin\\anaconda3\\lib\\site-packages (from folium) (1.21.5)\n",
      "Collecting branca>=0.6.0\n",
      "  Downloading branca-0.6.0-py3-none-any.whl (24 kB)\n",
      "Requirement already satisfied: MarkupSafe>=0.23 in c:\\users\\admin\\anaconda3\\lib\\site-packages (from jinja2>=2.9->folium) (2.0.1)\n",
      "Requirement already satisfied: certifi>=2017.4.17 in c:\\users\\admin\\anaconda3\\lib\\site-packages (from requests->folium) (2022.9.14)\n",
      "Requirement already satisfied: idna<4,>=2.5 in c:\\users\\admin\\anaconda3\\lib\\site-packages (from requests->folium) (3.3)\n",
      "Requirement already satisfied: urllib3<1.27,>=1.21.1 in c:\\users\\admin\\anaconda3\\lib\\site-packages (from requests->folium) (1.26.11)\n",
      "Requirement already satisfied: charset-normalizer<3,>=2 in c:\\users\\admin\\anaconda3\\lib\\site-packages (from requests->folium) (2.0.4)\n",
      "Installing collected packages: branca, folium\n",
      "Successfully installed branca-0.6.0 folium-0.14.0\n",
      "Note: you may need to restart the kernel to use updated packages.\n"
     ]
    }
   ],
   "source": [
    "pip install folium"
   ]
  },
  {
   "cell_type": "markdown",
   "id": "d061e0be",
   "metadata": {},
   "source": [
    "### Importing Libraries"
   ]
  },
  {
   "cell_type": "code",
   "execution_count": 9,
   "id": "b956859b",
   "metadata": {},
   "outputs": [],
   "source": [
    "from pymongo import MongoClient\n",
    "import json\n",
    "import folium\n",
    "from bs4 import BeautifulSoup\n",
    "import requests\n",
    "import pandas as pd\n",
    "\n",
    "client = MongoClient(\"mongodb://%s:%s@127.0.0.1\" % (\"dap\", \"dap\"))\n",
    "\n",
    "\n",
    "db = client['DAP_Project']\n",
    "collection = db['Dashboarding']"
   ]
  },
  {
   "cell_type": "markdown",
   "id": "b24ba157",
   "metadata": {},
   "source": [
    "### Storing the data into Mongo db "
   ]
  },
  {
   "cell_type": "code",
   "execution_count": 10,
   "id": "68b00326",
   "metadata": {},
   "outputs": [
    {
     "name": "stdout",
     "output_type": "stream",
     "text": [
      "['Adams-Normandie', 'Alsace', 'Angelino Heights', 'Angeles Mesa', 'Angelus Vista', 'Arleta', 'Arlington Heights', 'Arts District', 'Atwater Village', 'Baldwin Hills', 'Baldwin Hills/Crenshaw', 'Baldwin Village', 'Baldwin Vista', 'Beachwood Canyon', 'Bel Air, Bel-Air or Bel Air Estates', 'Benedict Canyon', 'Beverly Crest', 'Beverly Glen', 'Beverly Grove', 'Beverly Hills Post Office', 'Beverly Park', 'Beverlywood', 'Boyle Heights', 'Brentwood', 'Brentwood Circle', 'Brentwood Glen', 'Broadway-Manchester', 'Brookside', 'Bunker Hill', 'Byzantine-Latino Quarter', 'Cahuenga Pass', 'Canoga Park', 'Canterbury Knolls', 'Carthay', 'Carthay Circle', 'Castle Heights', 'Central-Alameda', 'Central City', 'Century City', 'Chatsworth', 'Chesterfield Square', 'Cheviot Hills', 'Chinatown', 'Civic Center', 'Country Club Park', 'Crenshaw', 'Crenshaw Manor', 'Crestview', 'Crestwood Hills', 'Cypress Park', 'Del Rey', 'Downtown', 'Eagle Rock', 'East Gate Bel Air', 'East Hollywood', 'Echo Park', 'Edendale', 'El Sereno', 'Elysian Heights', 'Elysian Park', 'Elysian Valley', 'Encino', 'Exposition Park', 'Faircrest Heights', 'Fairfax', 'Fashion District', 'Filipinotown, Historic', 'Financial District', 'Florence', 'Flower District', 'Franklin Hills', 'Gallery Row', 'Garvanza', 'Glassell Park', 'Gramercy Park', 'Granada Hills', 'Green Meadows', 'Griffith Park', 'Hancock Park', 'Hansen Heights', 'Harbor City', 'Harbor Gateway', 'Harvard Heights', 'Harvard Park', 'Hermon', 'Highland Park', 'Historic Filipinotown', 'Historic Core', 'Hollywood', 'Hollywood Dell', 'Hollywood Hills', 'Hollywood Hills West', 'Holmby Hills', 'Hyde Park', 'L.A. Downtown Industrial District', 'Jefferson Park', 'Jewelry District', 'Kinney Heights', 'Koreatown', 'La Cienega Heights', 'Ladera', 'Lafayette Square', 'Lake Balboa', 'Lake View Terrace', 'Larchmont', 'Laurel Canyon', 'Leimert Park', 'Lincoln Heights', 'Little Armenia', 'Little Bangladesh', 'Little Ethiopia', 'Little Italy', 'Little Tokyo', 'Los Feliz', 'Manchester Square', 'Mandeville Canyon', 'Marina Peninsula', 'Mar Vista', 'Melrose Hill', 'Mid-City', 'Mid-City Heights', 'Mid-City West', 'Mid-Wilshire', 'Miracle Mile', 'Mission Hills', 'Montecito Heights', 'Monterey Hills', 'Mount Olympus', 'Mount Washington', 'Naud Junction', 'Nichols Canyon', 'NoHo Arts District', 'North Hills', 'North Hollywood', 'Northridge', 'North University Park', 'Oakwood', 'Old Bank District', 'Old Chinatown', 'Outpost Estates', 'Pacific Palisades', 'Pacoima', 'Palms', 'Panorama City', 'Park La Brea', 'Picfair Village', 'Pico-Robertson', 'Pico-Union', 'Playa del Rey', 'Playa Vista', 'Porter Ranch', 'Rancho Park', 'Reseda', 'Reynier Village', 'Rose Hills', 'Rustic Canyon', 'San Pedro', 'Sawtelle', 'Shadow Hills', 'Sherman Oaks', 'Sherman Village', 'Silver Lake', 'Skid Row', 'Solano Canyon', 'Sonoratown', 'South Central, Historic', 'South Carthay', 'South Park', 'South Robertson', 'Spaulding Square', 'Studio City', 'Sunland', 'Sunset Junction', 'Sun Valley', 'Sylmar', 'Tarzana', 'Terminal Island', 'Thai Town', 'Toluca Lake', 'Toy District', 'Tujunga', 'University Hills', 'University Park', 'University Park, North', 'Valley Glen', 'Valley Village', 'Van Nuys', 'Venice', 'Vermont Knolls', 'Vermont-Slauson', 'Vermont Square', 'Vermont Vista', 'Victor Heights', 'Victoria Park', 'Village Green', 'Virgil Village', 'Warehouse District', 'Warner Center', 'Watts', 'Wellington Square', 'West Adams', 'West Adams Heights', 'Westchester', 'Westdale', 'Western Heights', 'West Hills', 'Westlake', 'West Los Angeles', 'Westside Village', 'Westwood', 'Westwood Village', 'Whitley Heights', 'Wholesale District', 'Wilmington', 'Wilshire Center', 'Wilshire Park', 'Wilshire Vista', 'Windsor Square', 'Winnetka', 'Woodland Hills', 'Yucca Corridor']\n"
     ]
    },
    {
     "data": {
      "text/plain": [
       "<pymongo.results.InsertOneResult at 0x2ca1f2957c0>"
      ]
     },
     "execution_count": 10,
     "metadata": {},
     "output_type": "execute_result"
    }
   ],
   "source": [
    "link = requests.get(\"https://en.wikipedia.org/wiki/List_of_districts_and_neighborhoods_in_Los_Angeles\")\n",
    "soup = BeautifulSoup(link.text, \"lxml\")\n",
    "\n",
    "sections=soup.find_all(class_=\"div-col\")\n",
    "#sections=soup.find_all(\"p\")\n",
    "places = BeautifulSoup(str(sections)).find_all('li')\n",
    "#print(sections)\n",
    "\n",
    "neighborhoods_list = []\n",
    "\n",
    "for div in places:\n",
    "    if div.find('a').contents[0] == '[40]':\n",
    "        neighborhoods_list.append('Pico Robertson')\n",
    "    else:\n",
    "        neighborhoods_list.append(div.find('a').contents[0])\n",
    "\n",
    "        \n",
    "len(neighborhoods_list)\n",
    "print(neighborhoods_list)\n",
    "\n",
    "collection.insert_one({\"Dashboarding\": neighborhoods_list})"
   ]
  },
  {
   "cell_type": "markdown",
   "id": "b801532c",
   "metadata": {},
   "source": [
    "### Using the Google Grocoding API"
   ]
  },
  {
   "cell_type": "code",
   "execution_count": 14,
   "id": "ff8b9209",
   "metadata": {},
   "outputs": [],
   "source": [
    "geoKey = 'your-geocodingAPI-key'"
   ]
  },
  {
   "cell_type": "markdown",
   "id": "36fdd5ca",
   "metadata": {},
   "source": [
    "### Using Function to get the Neighborhood details by using API "
   ]
  },
  {
   "cell_type": "markdown",
   "id": "56e3c5aa",
   "metadata": {},
   "source": [
    "'''\n",
    "    DESCRIPTION:\n",
    "        Using Geocoding API, this method gets the location data for each neighborhood \n",
    "    PARAMETERS:\n",
    "        INPUT:\n",
    "            List of Neighborhoods\n",
    "        OUTPUT:\n",
    "            JSON containing location data for each neighborhood \n",
    "    '''"
   ]
  },
  {
   "cell_type": "code",
   "execution_count": 27,
   "id": "1036430c",
   "metadata": {},
   "outputs": [],
   "source": [
    "def getNeighborhoodData(neighborhoods_list):\n",
    "    \n",
    "    try:\n",
    "        with open(\"LA_Neighborhoods.json\") as data:\n",
    "            jsonList = json.load(data)\n",
    "    except IOError:\n",
    "        jsonList = []\n",
    "        for neighborhood in neighborhoods_list:\n",
    "            parameters = {\n",
    "                \"address\": \"%s, Los Angeles, CA\" % neighborhood,\n",
    "                \"key\": geoKey \n",
    "            }\n",
    "            results = requests.get(\n",
    "                'https://maps.googleapis.com/maps/api/geocode/json', \n",
    "                params=parameters\n",
    "            ).json()\n",
    "            jsonList.append(results)\n",
    "        with open(\"../input/la-neighborhoods/LA_Neighborhoods.json\", 'w') as outputFile:\n",
    "            json.dump(jsonList, outputFile)\n",
    "        \n",
    "    return jsonList"
   ]
  },
  {
   "cell_type": "code",
   "execution_count": 18,
   "id": "9a9ef54e",
   "metadata": {},
   "outputs": [],
   "source": [
    "jsonList = getNeighborhoodData(neighborhoods_list)"
   ]
  },
  {
   "cell_type": "code",
   "execution_count": 19,
   "id": "174fb005",
   "metadata": {},
   "outputs": [],
   "source": [
    "neighborData = []\n",
    "for element in jsonList:\n",
    "    if element['results']:\n",
    "        neighborData.append([\n",
    "            element['results'][0]['address_components'][0]['long_name'],\n",
    "            element['results'][0]['geometry']['location']['lat'],\n",
    "            element['results'][0]['geometry']['location']['lng']\n",
    "        ])"
   ]
  },
  {
   "cell_type": "markdown",
   "id": "fdd521a2",
   "metadata": {},
   "source": [
    "### Converting to pandas DataFrame"
   ]
  },
  {
   "cell_type": "code",
   "execution_count": 20,
   "id": "623f5a03",
   "metadata": {},
   "outputs": [
    {
     "data": {
      "text/html": [
       "<div>\n",
       "<style scoped>\n",
       "    .dataframe tbody tr th:only-of-type {\n",
       "        vertical-align: middle;\n",
       "    }\n",
       "\n",
       "    .dataframe tbody tr th {\n",
       "        vertical-align: top;\n",
       "    }\n",
       "\n",
       "    .dataframe thead th {\n",
       "        text-align: right;\n",
       "    }\n",
       "</style>\n",
       "<table border=\"1\" class=\"dataframe\">\n",
       "  <thead>\n",
       "    <tr style=\"text-align: right;\">\n",
       "      <th></th>\n",
       "      <th>Neighborhood</th>\n",
       "      <th>Latitude</th>\n",
       "      <th>Longitude</th>\n",
       "    </tr>\n",
       "  </thead>\n",
       "  <tbody>\n",
       "    <tr>\n",
       "      <th>0</th>\n",
       "      <td>Angelino Heights</td>\n",
       "      <td>34.070289</td>\n",
       "      <td>-118.254796</td>\n",
       "    </tr>\n",
       "    <tr>\n",
       "      <th>1</th>\n",
       "      <td>2611</td>\n",
       "      <td>33.995562</td>\n",
       "      <td>-118.321977</td>\n",
       "    </tr>\n",
       "    <tr>\n",
       "      <th>2</th>\n",
       "      <td>Angelus Avenue</td>\n",
       "      <td>34.085498</td>\n",
       "      <td>-118.268441</td>\n",
       "    </tr>\n",
       "    <tr>\n",
       "      <th>3</th>\n",
       "      <td>Arleta</td>\n",
       "      <td>34.250459</td>\n",
       "      <td>-118.433835</td>\n",
       "    </tr>\n",
       "    <tr>\n",
       "      <th>4</th>\n",
       "      <td>Arlington Heights</td>\n",
       "      <td>34.042222</td>\n",
       "      <td>-118.318889</td>\n",
       "    </tr>\n",
       "    <tr>\n",
       "      <th>5</th>\n",
       "      <td>Arts District</td>\n",
       "      <td>34.041895</td>\n",
       "      <td>-118.232645</td>\n",
       "    </tr>\n",
       "    <tr>\n",
       "      <th>6</th>\n",
       "      <td>Atwater Village</td>\n",
       "      <td>34.117290</td>\n",
       "      <td>-118.261433</td>\n",
       "    </tr>\n",
       "    <tr>\n",
       "      <th>7</th>\n",
       "      <td>Baldwin Hills</td>\n",
       "      <td>34.006677</td>\n",
       "      <td>-118.350578</td>\n",
       "    </tr>\n",
       "    <tr>\n",
       "      <th>8</th>\n",
       "      <td>3650</td>\n",
       "      <td>34.010754</td>\n",
       "      <td>-118.337003</td>\n",
       "    </tr>\n",
       "    <tr>\n",
       "      <th>9</th>\n",
       "      <td>Baldwin Village</td>\n",
       "      <td>34.015091</td>\n",
       "      <td>-118.347656</td>\n",
       "    </tr>\n",
       "  </tbody>\n",
       "</table>\n",
       "</div>"
      ],
      "text/plain": [
       "        Neighborhood   Latitude   Longitude\n",
       "0   Angelino Heights  34.070289 -118.254796\n",
       "1               2611  33.995562 -118.321977\n",
       "2     Angelus Avenue  34.085498 -118.268441\n",
       "3             Arleta  34.250459 -118.433835\n",
       "4  Arlington Heights  34.042222 -118.318889\n",
       "5      Arts District  34.041895 -118.232645\n",
       "6    Atwater Village  34.117290 -118.261433\n",
       "7      Baldwin Hills  34.006677 -118.350578\n",
       "8               3650  34.010754 -118.337003\n",
       "9    Baldwin Village  34.015091 -118.347656"
      ]
     },
     "execution_count": 20,
     "metadata": {},
     "output_type": "execute_result"
    }
   ],
   "source": [
    "laDF = pd.DataFrame(\n",
    "    data=neighborData,\n",
    "    columns=[\"Neighborhood\", \"Latitude\", \"Longitude\"],\n",
    ")\n",
    "\n",
    "laDF.head(10)"
   ]
  },
  {
   "cell_type": "markdown",
   "id": "9d8743eb",
   "metadata": {},
   "source": [
    "### As you can see there are some neighborhoods which has there address saved in the neighborhood column. So we are doing it manually"
   ]
  },
  {
   "cell_type": "code",
   "execution_count": 21,
   "id": "f659a556",
   "metadata": {},
   "outputs": [],
   "source": [
    "#correct anomalies\n",
    "laDF.loc[1, \"Neighborhood\"] = \"Angeles Mesa\"\n",
    "laDF.loc[8, \"Neighborhood\"] = \"Baldwin Hills Crenshaw\"\n",
    "laDF.loc[11, \"Neighborhood\"] = \"Beachwood Canyon\"\n",
    "laDF.loc[16, \"Neighborhood\"] = \"Beverly Grove\"\n",
    "laDF.loc[33, \"Neighborhood\"] = \"Chesterfield Square\"\n",
    "laDF.loc[43, \"Neighborhood\"] = \"East Gate Bell Air\"\n",
    "laDF.loc[59, \"Neighborhood\"] = \"Flower District\"\n",
    "laDF.loc[61, \"Neighborhood\"] = \"Gallery Row\"\n",
    "laDF.loc[83, \"Neighborhood\"] = \"Jewelry District\"\n",
    "laDF.loc[96, \"Neighborhood\"] = \"Little Italy\"\n",
    "laDF.loc[118, \"Neighborhood\"] = \"Old Bank District\"\n",
    "laDF.loc[124, \"Neighborhood\"] = \"Park La Brea\"\n",
    "laDF.loc[144, \"Neighborhood\"] = \"Sonoratown\"\n",
    "laDF.loc[184, \"Neighborhood\"] = \"Westside Village\""
   ]
  },
  {
   "cell_type": "code",
   "execution_count": 22,
   "id": "3afa0082",
   "metadata": {},
   "outputs": [
    {
     "data": {
      "text/plain": [
       "Neighborhood     object\n",
       "Latitude        float64\n",
       "Longitude       float64\n",
       "dtype: object"
      ]
     },
     "execution_count": 22,
     "metadata": {},
     "output_type": "execute_result"
    }
   ],
   "source": [
    "laDF.dtypes"
   ]
  },
  {
   "cell_type": "code",
   "execution_count": 23,
   "id": "0dbe7432",
   "metadata": {},
   "outputs": [
    {
     "data": {
      "text/html": [
       "<div>\n",
       "<style scoped>\n",
       "    .dataframe tbody tr th:only-of-type {\n",
       "        vertical-align: middle;\n",
       "    }\n",
       "\n",
       "    .dataframe tbody tr th {\n",
       "        vertical-align: top;\n",
       "    }\n",
       "\n",
       "    .dataframe thead th {\n",
       "        text-align: right;\n",
       "    }\n",
       "</style>\n",
       "<table border=\"1\" class=\"dataframe\">\n",
       "  <thead>\n",
       "    <tr style=\"text-align: right;\">\n",
       "      <th></th>\n",
       "      <th>Neighborhood</th>\n",
       "      <th>Latitude</th>\n",
       "      <th>Longitude</th>\n",
       "    </tr>\n",
       "  </thead>\n",
       "  <tbody>\n",
       "    <tr>\n",
       "      <th>0</th>\n",
       "      <td>Angelino Heights</td>\n",
       "      <td>34.070289</td>\n",
       "      <td>-118.254796</td>\n",
       "    </tr>\n",
       "    <tr>\n",
       "      <th>1</th>\n",
       "      <td>Angeles Mesa</td>\n",
       "      <td>33.995562</td>\n",
       "      <td>-118.321977</td>\n",
       "    </tr>\n",
       "    <tr>\n",
       "      <th>2</th>\n",
       "      <td>Angelus Avenue</td>\n",
       "      <td>34.085498</td>\n",
       "      <td>-118.268441</td>\n",
       "    </tr>\n",
       "    <tr>\n",
       "      <th>3</th>\n",
       "      <td>Arleta</td>\n",
       "      <td>34.250459</td>\n",
       "      <td>-118.433835</td>\n",
       "    </tr>\n",
       "    <tr>\n",
       "      <th>4</th>\n",
       "      <td>Arlington Heights</td>\n",
       "      <td>34.042222</td>\n",
       "      <td>-118.318889</td>\n",
       "    </tr>\n",
       "    <tr>\n",
       "      <th>5</th>\n",
       "      <td>Arts District</td>\n",
       "      <td>34.041895</td>\n",
       "      <td>-118.232645</td>\n",
       "    </tr>\n",
       "    <tr>\n",
       "      <th>6</th>\n",
       "      <td>Atwater Village</td>\n",
       "      <td>34.117290</td>\n",
       "      <td>-118.261433</td>\n",
       "    </tr>\n",
       "    <tr>\n",
       "      <th>7</th>\n",
       "      <td>Baldwin Hills</td>\n",
       "      <td>34.006677</td>\n",
       "      <td>-118.350578</td>\n",
       "    </tr>\n",
       "    <tr>\n",
       "      <th>8</th>\n",
       "      <td>Baldwin Hills Crenshaw</td>\n",
       "      <td>34.010754</td>\n",
       "      <td>-118.337003</td>\n",
       "    </tr>\n",
       "    <tr>\n",
       "      <th>9</th>\n",
       "      <td>Baldwin Village</td>\n",
       "      <td>34.015091</td>\n",
       "      <td>-118.347656</td>\n",
       "    </tr>\n",
       "  </tbody>\n",
       "</table>\n",
       "</div>"
      ],
      "text/plain": [
       "             Neighborhood   Latitude   Longitude\n",
       "0        Angelino Heights  34.070289 -118.254796\n",
       "1            Angeles Mesa  33.995562 -118.321977\n",
       "2          Angelus Avenue  34.085498 -118.268441\n",
       "3                  Arleta  34.250459 -118.433835\n",
       "4       Arlington Heights  34.042222 -118.318889\n",
       "5           Arts District  34.041895 -118.232645\n",
       "6         Atwater Village  34.117290 -118.261433\n",
       "7           Baldwin Hills  34.006677 -118.350578\n",
       "8  Baldwin Hills Crenshaw  34.010754 -118.337003\n",
       "9         Baldwin Village  34.015091 -118.347656"
      ]
     },
     "execution_count": 23,
     "metadata": {},
     "output_type": "execute_result"
    }
   ],
   "source": [
    "  laDF.head(10)"
   ]
  },
  {
   "cell_type": "code",
   "execution_count": 26,
   "id": "aa775469",
   "metadata": {},
   "outputs": [
    {
     "name": "stdout",
     "output_type": "stream",
     "text": [
      "Collecting geopy\n",
      "  Downloading geopy-2.3.0-py3-none-any.whl (119 kB)\n",
      "     -------------------------------------- 119.8/119.8 kB 2.3 MB/s eta 0:00:00\n",
      "Collecting geographiclib<3,>=1.52\n",
      "  Downloading geographiclib-2.0-py3-none-any.whl (40 kB)\n",
      "     ---------------------------------------- 40.3/40.3 kB 2.0 MB/s eta 0:00:00\n",
      "Installing collected packages: geographiclib, geopy\n",
      "Successfully installed geographiclib-2.0 geopy-2.3.0\n",
      "Note: you may need to restart the kernel to use updated packages.\n"
     ]
    }
   ],
   "source": [
    "pip install geopy"
   ]
  },
  {
   "cell_type": "code",
   "execution_count": 28,
   "id": "51001d79",
   "metadata": {},
   "outputs": [
    {
     "name": "stdout",
     "output_type": "stream",
     "text": [
      "The geograpical coordinates of Los Angeles are 34.0536909, -118.242766.\n"
     ]
    }
   ],
   "source": [
    "from geopy.geocoders import Nominatim\n",
    "\n",
    "address = 'Los Angeles'\n",
    "\n",
    "geolocator = Nominatim(user_agent = \"ExploreLA\")\n",
    "LA_location = geolocator.geocode(address)\n",
    "LA_latitude = LA_location.latitude\n",
    "LA_longitude = LA_location.longitude\n",
    "\n",
    "print('The geograpical coordinates of Los Angeles are {}, {}.'.format(LA_latitude, LA_longitude))"
   ]
  },
  {
   "cell_type": "markdown",
   "id": "fc81ec83",
   "metadata": {},
   "source": [
    "### Plotting neighbourhoods on the MaP of LA "
   ]
  },
  {
   "cell_type": "code",
   "execution_count": 30,
   "id": "c385d9d9",
   "metadata": {},
   "outputs": [],
   "source": [
    "mapLA = folium.Map(\n",
    "    location=[LA_latitude, LA_longitude], \n",
    "    tiles='Stamen Toner', \n",
    "    zoom_start=10, \n",
    ")\n",
    "\n",
    "# add markers to map\n",
    "for lat, lng, neighborhood in zip(laDF['Latitude'], laDF['Longitude'], laDF['Neighborhood']):\n",
    "    label = '{}'.format(neighborhood)\n",
    "    label = folium.Popup(label, parse_html = True)\n",
    "    folium.Marker(\n",
    "        [lat, lng],\n",
    "        popup = label,\n",
    "    ).add_to(mapLA)\n",
    "   "
   ]
  },
  {
   "cell_type": "code",
   "execution_count": null,
   "id": "7ba2f9f6",
   "metadata": {},
   "outputs": [],
   "source": [
    "#This comment is added by Ashwyn as a Test\n"
   ]
  }
 ],
 "metadata": {
  "kernelspec": {
   "display_name": "Python 3 (ipykernel)",
   "language": "python",
   "name": "python3"
  },
  "language_info": {
   "codemirror_mode": {
    "name": "ipython",
    "version": 3
   },
   "file_extension": ".py",
   "mimetype": "text/x-python",
   "name": "python",
   "nbconvert_exporter": "python",
   "pygments_lexer": "ipython3",
   "version": "3.9.13"
  }
 },
 "nbformat": 4,
 "nbformat_minor": 5
}
