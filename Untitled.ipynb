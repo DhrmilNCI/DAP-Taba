{
 "cells": [
  {
   "cell_type": "code",
   "execution_count": 5,
   "id": "b956859b",
   "metadata": {},
   "outputs": [],
   "source": [
    "from pymongo import MongoClient\n",
    "import json\n",
    "import folium\n",
    "from bs4 import BeautifulSoup\n",
    "import requests\n",
    "\n",
    "client = MongoClient(\"mongodb://%s:%s@127.0.0.1\" % (\"dap\", \"dap\"))\n",
    "\n",
    "\n",
    "db = client['DAP_Project']\n",
    "collection = db['Dashboarding']"
   ]
  },
  {
   "cell_type": "code",
   "execution_count": 30,
   "id": "68b00326",
   "metadata": {},
   "outputs": [
    {
     "name": "stdout",
     "output_type": "stream",
     "text": [
      "['Adams-Normandie', 'Alsace', 'Angelino Heights', 'Angeles Mesa', 'Angelus Vista', 'Arleta', 'Arlington Heights', 'Arts District', 'Atwater Village', 'Baldwin Hills', 'Baldwin Hills/Crenshaw', 'Baldwin Village', 'Baldwin Vista', 'Beachwood Canyon', 'Bel Air, Bel-Air or Bel Air Estates', 'Benedict Canyon', 'Beverly Crest', 'Beverly Glen', 'Beverly Grove', 'Beverly Hills Post Office', 'Beverly Park', 'Beverlywood', 'Boyle Heights', 'Brentwood', 'Brentwood Circle', 'Brentwood Glen', 'Broadway-Manchester', 'Brookside', 'Bunker Hill', 'Byzantine-Latino Quarter', 'Cahuenga Pass', 'Canoga Park', 'Canterbury Knolls', 'Carthay', 'Carthay Circle', 'Castle Heights', 'Central-Alameda', 'Central City', 'Century City', 'Chatsworth', 'Chesterfield Square', 'Cheviot Hills', 'Chinatown', 'Civic Center', 'Country Club Park', 'Crenshaw', 'Crenshaw Manor', 'Crestview', 'Crestwood Hills', 'Cypress Park', 'Del Rey', 'Downtown', 'Eagle Rock', 'East Gate Bel Air', 'East Hollywood', 'Echo Park', 'Edendale', 'El Sereno', 'Elysian Heights', 'Elysian Park', 'Elysian Valley', 'Encino', 'Exposition Park', 'Faircrest Heights', 'Fairfax', 'Fashion District', 'Filipinotown, Historic', 'Financial District', 'Florence', 'Flower District', 'Franklin Hills', 'Gallery Row', 'Garvanza', 'Glassell Park', 'Gramercy Park', 'Granada Hills', 'Green Meadows', 'Griffith Park', 'Hancock Park', 'Hansen Heights', 'Harbor City', 'Harbor Gateway', 'Harvard Heights', 'Harvard Park', 'Hermon', 'Highland Park', 'Historic Filipinotown', 'Historic Core', 'Hollywood', 'Hollywood Dell', 'Hollywood Hills', 'Hollywood Hills West', 'Holmby Hills', 'Hyde Park', 'L.A. Downtown Industrial District', 'Jefferson Park', 'Jewelry District', 'Kinney Heights', 'Koreatown', 'La Cienega Heights', 'Ladera', 'Lafayette Square', 'Lake Balboa', 'Lake View Terrace', 'Larchmont', 'Laurel Canyon', 'Leimert Park', 'Lincoln Heights', 'Little Armenia', 'Little Bangladesh', 'Little Ethiopia', 'Little Italy', 'Little Tokyo', 'Los Feliz', 'Manchester Square', 'Mandeville Canyon', 'Marina Peninsula', 'Mar Vista', 'Melrose Hill', 'Mid-City', 'Mid-City Heights', 'Mid-City West', 'Mid-Wilshire', 'Miracle Mile', 'Mission Hills', 'Montecito Heights', 'Monterey Hills', 'Mount Olympus', 'Mount Washington', 'Naud Junction', 'Nichols Canyon', 'NoHo Arts District', 'North Hills', 'North Hollywood', 'Northridge', 'North University Park', 'Oakwood', 'Old Bank District', 'Old Chinatown', 'Outpost Estates', 'Pacific Palisades', 'Pacoima', 'Palms', 'Panorama City', 'Park La Brea', 'Picfair Village', 'Pico-Robertson', 'Pico-Union', 'Playa del Rey', 'Playa Vista', 'Porter Ranch', 'Rancho Park', 'Reseda', 'Reynier Village', 'Rose Hills', 'Rustic Canyon', 'San Pedro', 'Sawtelle', 'Shadow Hills', 'Sherman Oaks', 'Sherman Village', 'Silver Lake', 'Skid Row', 'Solano Canyon', 'Sonoratown', 'South Central, Historic', 'South Carthay', 'South Park', 'South Robertson', 'Spaulding Square', 'Studio City', 'Sunland', 'Sunset Junction', 'Sun Valley', 'Sylmar', 'Tarzana', 'Terminal Island', 'Thai Town', 'Toluca Lake', 'Toy District', 'Tujunga', 'University Hills', 'University Park', 'University Park, North', 'Valley Glen', 'Valley Village', 'Van Nuys', 'Venice', 'Vermont Knolls', 'Vermont-Slauson', 'Vermont Square', 'Vermont Vista', 'Victor Heights', 'Victoria Park', 'Village Green', 'Virgil Village', 'Warehouse District', 'Warner Center', 'Watts', 'Wellington Square', 'West Adams', 'West Adams Heights', 'Westchester', 'Westdale', 'Western Heights', 'West Hills', 'Westlake', 'West Los Angeles', 'Westside Village', 'Westwood', 'Westwood Village', 'Whitley Heights', 'Wholesale District', 'Wilmington', 'Wilshire Center', 'Wilshire Park', 'Wilshire Vista', 'Windsor Square', 'Winnetka', 'Woodland Hills', 'Yucca Corridor']\n"
     ]
    },
    {
     "data": {
      "text/plain": [
       "<pymongo.results.InsertOneResult at 0x1fcf4a853d0>"
      ]
     },
     "execution_count": 30,
     "metadata": {},
     "output_type": "execute_result"
    }
   ],
   "source": [
    "link = requests.get(\"https://en.wikipedia.org/wiki/List_of_districts_and_neighborhoods_in_Los_Angeles\")\n",
    "soup = BeautifulSoup(link.text, \"lxml\")\n",
    "\n",
    "sections=soup.find_all(class_=\"div-col\")\n",
    "#sections=soup.find_all(\"p\")\n",
    "places = BeautifulSoup(str(sections)).find_all('li')\n",
    "#print(sections)\n",
    "\n",
    "neighborhoods_list = []\n",
    "\n",
    "for div in places:\n",
    "    if div.find('a').contents[0] == '[40]':\n",
    "        neighborhoods_list.append('Pico Robertson')\n",
    "    else:\n",
    "        neighborhoods_list.append(div.find('a').contents[0])\n",
    "\n",
    "        \n",
    "len(neighborhoods_list)\n",
    "print(neighborhoods_list)\n",
    "\n",
    "collection.insert_one({\"Dashboarding\": neighborhoods_list})"
   ]
  },
  {
   "cell_type": "code",
   "execution_count": 2,
   "id": "3afa0082",
   "metadata": {},
   "outputs": [
    {
     "ename": "NameError",
     "evalue": "name 'LA_latitude' is not defined",
     "output_type": "error",
     "traceback": [
      "\u001b[1;31m---------------------------------------------------------------------------\u001b[0m",
      "\u001b[1;31mNameError\u001b[0m                                 Traceback (most recent call last)",
      "\u001b[1;32m~\\AppData\\Local\\Temp\\ipykernel_37224\\4264692782.py\u001b[0m in \u001b[0;36m<module>\u001b[1;34m\u001b[0m\n\u001b[0;32m      1\u001b[0m mapLACrimes = folium.Map(\n\u001b[1;32m----> 2\u001b[1;33m     \u001b[0mlocation\u001b[0m\u001b[1;33m=\u001b[0m\u001b[1;33m[\u001b[0m\u001b[0mLA_latitude\u001b[0m\u001b[1;33m,\u001b[0m \u001b[0mLA_longitude\u001b[0m\u001b[1;33m]\u001b[0m\u001b[1;33m,\u001b[0m\u001b[1;33m\u001b[0m\u001b[1;33m\u001b[0m\u001b[0m\n\u001b[0m\u001b[0;32m      3\u001b[0m     \u001b[0mzoom_start\u001b[0m\u001b[1;33m=\u001b[0m\u001b[1;36m10\u001b[0m\u001b[1;33m,\u001b[0m\u001b[1;33m\u001b[0m\u001b[1;33m\u001b[0m\u001b[0m\n\u001b[0;32m      4\u001b[0m     \u001b[0mtiles\u001b[0m\u001b[1;33m=\u001b[0m\u001b[1;34m'Stamen Toner'\u001b[0m\u001b[1;33m,\u001b[0m\u001b[1;33m\u001b[0m\u001b[1;33m\u001b[0m\u001b[0m\n\u001b[0;32m      5\u001b[0m )\n",
      "\u001b[1;31mNameError\u001b[0m: name 'LA_latitude' is not defined"
     ]
    }
   ],
   "source": [
    "mapLACrimes = folium.Map(\n",
    "    location=[LA_latitude, LA_longitude], \n",
    "    zoom_start=10, \n",
    "    tiles='Stamen Toner', \n",
    ")\n",
    "\n",
    "mapLACrimes.choropleth(\n",
    "    geo_data=\"LAPD_Division.json\",\n",
    "    name='choropleth',\n",
    "    data=crimeDFCounts,\n",
    "    columns=['Area', 'NumberofCrimes'],\n",
    "    key_on='feature.properties.name',\n",
    "    fill_color='YlOrRd',\n",
    "    fill_opacity=0.7,\n",
    "    line_opacity=0.2,\n",
    "    legend_name='Crimes in LA'\n",
    ")"
   ]
  },
  {
   "cell_type": "code",
   "execution_count": null,
   "id": "0dbe7432",
   "metadata": {},
   "outputs": [],
   "source": []
  },
  {
   "cell_type": "code",
   "execution_count": null,
   "id": "51001d79",
   "metadata": {},
   "outputs": [],
   "source": []
  }
 ],
 "metadata": {
  "kernelspec": {
   "display_name": "Python 3 (ipykernel)",
   "language": "python",
   "name": "python3"
  },
  "language_info": {
   "codemirror_mode": {
    "name": "ipython",
    "version": 3
   },
   "file_extension": ".py",
   "mimetype": "text/x-python",
   "name": "python",
   "nbconvert_exporter": "python",
   "pygments_lexer": "ipython3",
   "version": "3.9.13"
  }
 },
 "nbformat": 4,
 "nbformat_minor": 5
}
